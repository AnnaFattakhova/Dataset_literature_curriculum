{
  "nbformat": 4,
  "nbformat_minor": 0,
  "metadata": {
    "colab": {
      "provenance": [],
      "authorship_tag": "ABX9TyOG+qj9NdQQYb7wFxLOshwi",
      "include_colab_link": true
    },
    "kernelspec": {
      "name": "python3",
      "display_name": "Python 3"
    },
    "language_info": {
      "name": "python"
    }
  },
  "cells": [
    {
      "cell_type": "markdown",
      "metadata": {
        "id": "view-in-github",
        "colab_type": "text"
      },
      "source": [
        "<a href=\"https://colab.research.google.com/github/AnnaFattakhova/Dataset_literature_curriculum/blob/main/%D0%9F%D1%80%D0%B0%D0%BA%D0%B8_%D0%B2_%D0%B4%D0%B0%D1%82%D0%B0%D1%81%D0%B5%D1%82%D0%B5.ipynb\" target=\"_parent\"><img src=\"https://colab.research.google.com/assets/colab-badge.svg\" alt=\"Open In Colab\"/></a>"
      ]
    },
    {
      "cell_type": "markdown",
      "source": [
        "# Замены вручную (для merged1)\n",
        "1.  ‘first publication’ => ‘first_publication’\n",
        "2.  для базы 1 изменено значение uid (теперь начинается не с 1_0, а с 1_1)\n",
        "3. заменены NA:\n",
        "  *  в  century, type, oblig_author,  oblig_title, section, number_author, number_title, source_issue, title_cycle, group, notes на 'inapp'\n",
        "  *  в author на 'Неизвестный автор'\n",
        "  *  в profound на '0'\n",
        "\n",
        "\n",
        "\n"
      ],
      "metadata": {
        "id": "JTQ8yrREFXKO"
      }
    },
    {
      "cell_type": "markdown",
      "source": [
        "# Добавлены вручную (при желании можно автоматизировать)\n",
        "\n",
        "1. добавлен перед “notes” столбец “translated”\n",
        "2. добавлен перед “notes” столбец “sort”"
      ],
      "metadata": {
        "id": "EQSa1nm4DXpn"
      }
    },
    {
      "cell_type": "markdown",
      "source": [
        "# Добавлены автоматически"
      ],
      "metadata": {
        "id": "FO-7GVyOjGYp"
      }
    },
    {
      "cell_type": "markdown",
      "source": [
        "Для столбца translated"
      ],
      "metadata": {
        "id": "kbNwLTT3iYt3"
      }
    },
    {
      "cell_type": "code",
      "source": [
        "#в type для значений \"зарубежная\": В столбец translated вставить ‘1’.\n",
        "df.loc[df['type'] == 'зарубежная', 'translated'] = 1"
      ],
      "metadata": {
        "id": "8SHsaGKciaZy"
      },
      "execution_count": null,
      "outputs": []
    },
    {
      "cell_type": "markdown",
      "source": [
        "Для столбца source_year"
      ],
      "metadata": {
        "id": "KM4lenqujiSr"
      }
    },
    {
      "cell_type": "code",
      "source": [
        "#заменяем пустые значения в \"source_year\" на значение из \"source_id\"\n",
        "df['source_year'] = df['source_year'].fillna(df['source_id'])"
      ],
      "metadata": {
        "id": "QltxYhlzjdkk"
      },
      "execution_count": null,
      "outputs": []
    },
    {
      "cell_type": "markdown",
      "source": [
        "# Удалены (автоматически)\n",
        "\n",
        "1.   столбец first_publication\n",
        "2.   столбец quantity\n"
      ],
      "metadata": {
        "id": "rwyCB-cLbfpL"
      }
    },
    {
      "cell_type": "code",
      "source": [
        "#убираем столбец first_publication\n",
        "df = df.drop('first_publication', axis = 1)\n",
        "\n",
        "#убираем столбец quantity\n",
        "df = df.drop('quantity', axis = 1)"
      ],
      "metadata": {
        "id": "B02q22yBb-zt"
      },
      "execution_count": null,
      "outputs": []
    },
    {
      "cell_type": "markdown",
      "source": [
        "Для столбца title"
      ],
      "metadata": {
        "id": "_NbYq3Jngt4S"
      }
    },
    {
      "cell_type": "code",
      "source": [
        "#отбрасываем финальные пробелы\n",
        "def remove_space(s):\n",
        "    return s.rstrip()\n",
        "\n",
        "df['title'] = df['title'].astype(str).apply(lambda x: remove_space(x))"
      ],
      "metadata": {
        "id": "A8D1EwCUgpAf"
      },
      "execution_count": null,
      "outputs": []
    },
    {
      "cell_type": "markdown",
      "source": [
        "# Автоматические замены\n"
      ],
      "metadata": {
        "id": "UTh-L1Hpb18C"
      }
    },
    {
      "cell_type": "markdown",
      "source": [
        "Базовые замены для всей таблицы"
      ],
      "metadata": {
        "id": "rOtOOPctc1hk"
      }
    },
    {
      "cell_type": "code",
      "source": [
        "#заменяем ’ё’ → ’е’\n",
        "df = df.replace('ё', 'е', regex=True)\n",
        "#заменяем ’  ’ [два пробела] → ’ ’ [один пробел]\n",
        "df = df.replace({r's{2,}': ' '}, regex=True)\n",
        "#заменяем ’ - ’ [пробел-минус-пробел] → ’ — ’ [пробел-длинное тире-пробел]\n",
        "df = df.replace(\" - \", \" — \", regex=True)\n",
        "#заменяем ’ – ’ [пробел-среднее тире-пробел] → ’ — ’ [пробел-длинное тире-пробел]\n",
        "df = df.replace(\" – \", \" — \", regex=True)\n",
        "#заменяем ’...’ [три точки] → ’…’ [многоточие]\n",
        "df = df.replace(\"...\", \"…\")\n",
        "#заменяем ’ ’ [пробел на конце ячейки] — ’’ [отсутствие пробела]\n",
        "df = df.applymap(lambda x: x.strip() if isinstance(x, str) else x)"
      ],
      "metadata": {
        "id": "VURk6v9ocvYb"
      },
      "execution_count": null,
      "outputs": []
    },
    {
      "cell_type": "markdown",
      "source": [
        "Замены для столбца source_id"
      ],
      "metadata": {
        "id": "3nawug8sh9-0"
      }
    },
    {
      "cell_type": "code",
      "source": [
        "#заменяем в \"source_id\" “-” на значение из source_year\n",
        "df['source_id'] = np.where(df['source_id'] == '-', df['source_year'], df['source_id'])"
      ],
      "metadata": {
        "id": "Y5nC__p5iKvV"
      },
      "execution_count": null,
      "outputs": []
    },
    {
      "cell_type": "markdown",
      "source": [
        "Замены для столбца source_year"
      ],
      "metadata": {
        "id": "QodB-FjNewiC"
      }
    },
    {
      "cell_type": "code",
      "source": [
        "#заменяем в \"source_year\" \"1937-38\" на \"1937\"\n",
        "df['source_year'] = df['source_year'].replace(['1937-38'], 1937)"
      ],
      "metadata": {
        "id": "PnM7-CXqe6dz"
      },
      "execution_count": null,
      "outputs": []
    },
    {
      "cell_type": "markdown",
      "source": [
        "Замены для столбца author"
      ],
      "metadata": {
        "id": "CLZnqyE9gMMU"
      }
    },
    {
      "cell_type": "code",
      "source": [
        "#заменяем в \"author\" \"Неизвестный автор.\" на \"Неизвестный автор\"\n",
        "df['author'] = df['author'].replace(['Неизвестный автор.'], 'Неизвестный автор')\n",
        "\n",
        "#заменяем Фамилия И.О. на Фамилия И. О. — с пробелом между инициалами\n",
        "def add_space_after_capital_and_dot(s):\n",
        "    # Use a regular expression to add a space after capital letter and dot (if not last symbol)\n",
        "    out = re.sub(r'([А-Яа-я])\\.(?=[^. ])', r'\\1. ', s)\n",
        "    return out.rstrip()\n",
        "\n",
        "df['author'] = df['author'].astype(str).apply(lambda x: add_space_after_capital_and_dot(x))"
      ],
      "metadata": {
        "id": "F1EzUp4EgU7Z"
      },
      "execution_count": null,
      "outputs": []
    },
    {
      "cell_type": "markdown",
      "source": [
        "Замены для столбцов type и sort"
      ],
      "metadata": {
        "id": "QNnH4rpcc50H"
      }
    },
    {
      "cell_type": "code",
      "source": [
        "#1) type+sort\n",
        "\n",
        "\n",
        "\n",
        "#заменить желтые ‘фольклор’ на ‘зарубежная’\n",
        "#остальные ‘фольклор’ — на ‘отечественная’. Весь \"фольклор\" => в столбец \"sort\"\n",
        "\n",
        "df.set_index('uid', inplace= True )\n",
        "#df.reset_index()\n",
        "#df\n",
        "indexes_list = ['3_1715', '3_1716', '3_1717', '3_1718', '3_1719', '3_1722', '3_1733', '3_2485', '3_1778', '3_1318', '3_1783', '3_1784', '3_1321', '3_1786', '3_1787', '3_1801', '3_1802', '3_1322', '3_1814', '3_1820', '3_1825', '3_1832', '3_1833', '3_2488', '3_1845', '3_1847', '3_1853']\n",
        "#индексы получены через замену в копии (0_сopy_заменить) желтых ячеек на \"заменить\"\n",
        "#df_index = df_1[df_1['type'] == 'заменить']\n",
        "#indexes_list = df_index.reset_index()['uid'].tolist()\n",
        "#indexes_list\n",
        "\n",
        "df['sort'] = df['type'].copy()\n",
        "df['sort'] = df.loc[df['type'] == 'фольклор', 'type']\n",
        "df.loc[indexes_list, 'type'] ='зарубежная'\n",
        "df['type'] = df['type'].replace(['фольклор'], 'отечественная')\n",
        "\n",
        "\n",
        "#в type для значений \"духовная\": Переместить в sort, а здесь оставить пустую ячейку.\n",
        "\n",
        "df.loc[df['type'] == 'духовная', 'sort'] = 'духовная'\n",
        "df['type'] = df['type'].replace(['духовная'], np.NaN)"
      ],
      "metadata": {
        "id": "4wBjqADfdA3R"
      },
      "execution_count": null,
      "outputs": []
    },
    {
      "cell_type": "code",
      "source": [
        "#2)  type\n",
        "\n",
        "\n",
        "#заменяем в \"type\" \"-\" на \" \"\n",
        "df['type'] = df['type'].replace(['-'], np.NaN)\n",
        "#заменяем в \"type\" \"древнерусская литература\" и \"русская\" на \"отечественная\"\n",
        "df['type'] = df['type'].replace(['древнерусская литература'], 'отечественная')\n",
        "df['type'] = df['type'].replace(['русская'], 'отечественная')"
      ],
      "metadata": {
        "id": "B3MatLnqdXWQ"
      },
      "execution_count": null,
      "outputs": []
    },
    {
      "cell_type": "markdown",
      "source": [
        "Замены для столбца oblig_author"
      ],
      "metadata": {
        "id": "33p0HFrnfySS"
      }
    },
    {
      "cell_type": "code",
      "source": [
        "#заменяем в \"oblig_author\" \"нет\" на \"0\", \"да\" на \"1\"\n",
        "df['oblig_author'] = df['oblig_author'].replace(['нет'], 0).replace(['да'], 1)"
      ],
      "metadata": {
        "id": "CZ0Ymbftf11l"
      },
      "execution_count": null,
      "outputs": []
    },
    {
      "cell_type": "markdown",
      "source": [
        "Замены для столбца oblig_title"
      ],
      "metadata": {
        "id": "pVtSxkVbfJsI"
      }
    },
    {
      "cell_type": "code",
      "source": [
        "#заменяем в \"oblig_title\" \"нет\" на \"0\", \"да\" на \"1\"\n",
        "df['oblig_title'] = df['oblig_title'].replace(['нет'], 0).replace(['да'], 1)\n",
        "\n",
        "#заменяем в oblig_title (для source_year кроме ‘2023’) '*' на ‘1’ (для source_year ‘2023’ звездочку оставляем)\n",
        "asterix2023_indexes = df.index[(df['source_year'] == 2023) & (df['oblig_title'] == '*')].tolist()\n",
        "df.loc[asterix2023_indexes, 'oblig_title'] ='asterix'\n",
        "df['oblig_title'] = df['oblig_title'].replace(['*'], 1)\n",
        "df['oblig_title'] = df['oblig_title'].replace(['asterix'], '*')"
      ],
      "metadata": {
        "id": "9ddQfuEIdhsl"
      },
      "execution_count": null,
      "outputs": []
    },
    {
      "cell_type": "markdown",
      "source": [
        "Замены для столбца grade"
      ],
      "metadata": {
        "id": "igEQU_2TfbpN"
      }
    },
    {
      "cell_type": "code",
      "source": [
        "#заменяем в \"grade\" \"средняя\" и \" средняя\" на \"5–9\"\n",
        "df['grade'] = df['grade'].replace(['средняя'], '5–9').replace([' средняя'], '5–9')\n",
        "\n",
        "#заменяем в \"grade\" \"старшая\" на \"5–11\"\n",
        "df['grade'] = df['grade'].replace(['старшая'], '5–11')"
      ],
      "metadata": {
        "id": "8jy-6DOdfket"
      },
      "execution_count": null,
      "outputs": []
    },
    {
      "cell_type": "markdown",
      "source": [
        "Замены для столбца profound"
      ],
      "metadata": {
        "id": "TEfnZomxfwUR"
      }
    },
    {
      "cell_type": "code",
      "source": [
        "#заменяем в \"profound\" \"да\" на \"1\"\n",
        "df['profound'] = df['profound'].replace(['да'], 1)"
      ],
      "metadata": {
        "id": "uu5x5qw0gBQ1"
      },
      "execution_count": null,
      "outputs": []
    },
    {
      "cell_type": "markdown",
      "source": [
        "Замены для столбца notes, oblig_title, profound"
      ],
      "metadata": {
        "id": "1E-NdcLihHC1"
      }
    },
    {
      "cell_type": "code",
      "source": [
        "#1) notes\n",
        "\n",
        "\n",
        "#заменяем в \"notes\" \"5,8,9\" на \"статьи 5, 8, 9\"\n",
        "df['notes'] = df['notes'].replace(['5,8,9'], 'статьи 5, 8, 9')\n",
        "#заменяем в \"notes\" \"5,8,9 в сокращении\" на \"статьи 5, 8, 9 (в сокращении)\"\n",
        "df['notes'] = df['notes'].replace(['5,8,9 в сокращении'], 'статьи 5, 8, 9 (в сокращении)')\n",
        "#заменяем в \"notes\" \"8,9 отрывки\" на \"статьи 8, 9 (отрывки)\"\n",
        "df['notes'] = df['notes'].replace(['8,9 отрывки'], 'статьи 8, 9 (отрывки)')\n",
        "#заменяем в \"notes\" \"гл. 2\" на \"глава 2\"\n",
        "df['notes'] = df['notes'].replace(['гл. 2'], 'глава 2')\n",
        "#заменяем в \"notes\" \"гл.1, 2, 3\" на \"главы 1, 2, 3\"\n",
        "df['notes'] = df['notes'].replace(['гл.1, 2, 3'], 'главы 1, 2, 3')\n",
        "#заменяем в \"notes\" \"первый том\" на \"том 1\"\n",
        "df['notes'] = df['notes'].replace(['первый том'], 'том 1')\n",
        "#заменяем в \"notes\" \"статьи 8 и 9\" на \"статьи 8, 9\"\n",
        "df['notes'] = df['notes'].replace(['статьи 8 и 9'], 'статьи 8, 9')\n",
        "#заменяем в \"notes\" \"том 1.\" на \"том 1\"\n",
        "df['notes'] = df['notes'].replace(['том 1.'], 'том 1')\n",
        "#заменяем в \"notes\" \"ч 1.\" на \"часть 1\"\n",
        "df['notes'] = df['notes'].replace(['ч 1.'], 'часть 1')\n",
        "#заменяем в \"notes\" \"ч.1\" на \"часть 1\"\n",
        "df['notes'] = df['notes'].replace(['ч.1'], 'часть 1')\n",
        "#заменяем в \"notes\" \"ч.1, 2\" на \"части 1, 2\"\n",
        "df['notes'] = df['notes'].replace(['ч.1, 2'], 'части 1, 2')\n",
        "#заменяем в \"notes\" \"ч.I, II\" на \"части 1, 2\"\n",
        "df['notes'] = df['notes'].replace(['ч.I, II'], 'части 1, 2')"
      ],
      "metadata": {
        "id": "cS-2frSRhLR3"
      },
      "execution_count": null,
      "outputs": []
    },
    {
      "cell_type": "code",
      "source": [
        "#2) notes + oblig_title\n",
        "\n",
        "\n",
        "#в oblig_title для значений \"отрывки\": В столбец notes вставить ‘Отрывки по выбору’, а здесь пока оставить.\n",
        "df.loc[df['oblig_title'] == 'отрывки', 'notes'] = 'Отрывки по выбору'\n",
        "\n",
        "#в oblig_title для значений \"самостоятельно\": Скопировать значение в notes, а здесь пока оставить.\n",
        "df.loc[df['oblig_title'] == 'самостоятельно', 'notes'] = 'самостоятельно'\n",
        "\n",
        "#в oblig_title для значений \"по выбору\": Скопировать значение в notes, а здесь заменить на ‘0’\n",
        "df.loc[df['oblig_title'] == 'по выбору', 'notes'] = 'по выбору'\n",
        "df['oblig_title'] = df['oblig_title'].replace(['по выбору'], 0)"
      ],
      "metadata": {
        "id": "R5hvl70DhZfX"
      },
      "execution_count": null,
      "outputs": []
    },
    {
      "cell_type": "code",
      "source": [
        "#3) notes + profound\n",
        "\n",
        "\n",
        "#в oblig_title для значений \"*в гуманитарных\":\n",
        "#переместить в notes значение ‘Для изучения в гуманитарных классах’ (без звездочки в начале)\n",
        "#в столбце profound поставить ‘1’, а здесь заменить на ‘0’\n",
        "\n",
        "df.loc[df['oblig_title'] == '*в гуманитарных', 'notes'] = 'Для изучения в гуманитарных классах'\n",
        "df.loc[df['oblig_title'] == '*в гуманитарных', 'profound'] = 1\n",
        "df['oblig_title'] = df['oblig_title'].replace(['*в гуманитарных'], 0)"
      ],
      "metadata": {
        "id": "2TC4k54Jhx89"
      },
      "execution_count": null,
      "outputs": []
    },
    {
      "cell_type": "markdown",
      "source": [
        "# Сверки, связки, замены (работа с отдельными файлами)"
      ],
      "metadata": {
        "id": "WLgWNKjncOfy"
      }
    },
    {
      "cell_type": "markdown",
      "source": [
        "1) Sorted: уникальные значения в столбцах"
      ],
      "metadata": {
        "id": "cItRXK44kY8K"
      }
    },
    {
      "cell_type": "code",
      "source": [
        "uids = df['uid'].unique()\n",
        "new_df = pd.DataFrame(data=uids, columns = ['uid'])\n",
        "#new_df\n",
        "\n",
        "#uids = df['uid'].unique()\n",
        "source_ids = df['source_id'].unique()\n",
        "source_years = df['source_year'].unique()\n",
        "groups = df['group'].unique()\n",
        "centuries = df['century'].unique()\n",
        "authors = df['author'].unique()\n",
        "titles = df['title'].unique()\n",
        "genres = df['genre'].unique()\n",
        "types = df['type'].unique()\n",
        "sorts = df['sort'].unique()\n",
        "translateds = df['translated'].unique()\n",
        "oblig_authors = df['oblig_author'].unique()\n",
        "oblig_titles = df['oblig_title'].unique()\n",
        "grades = df['grade'].unique()\n",
        "sections = df['section'].unique()\n",
        "numbers_authors = df['number_authors'].unique()\n",
        "numbers_titles = df['number_titles'].unique()\n",
        "profounds = df['profound'].unique()\n",
        "source_issues = df['source_issue'].unique()\n",
        "title_cycles = df['title_cycle'].unique()\n",
        "notes = df['notes'].unique()\n",
        "\n",
        "df_merged = pd.concat([new_df, pd.DataFrame(source_ids), pd.DataFrame(source_years), pd.DataFrame(groups), pd.DataFrame(centuries), pd.DataFrame(authors), pd.DataFrame(titles), pd.DataFrame(genres), pd.DataFrame(types), pd.DataFrame(oblig_authors), pd.DataFrame(oblig_titles), pd.DataFrame(grades), pd.DataFrame(sections), pd.DataFrame(numbers_authors), pd.DataFrame(numbers_titles), pd.DataFrame(profounds), pd.DataFrame(source_issues), pd.DataFrame(title_cycles), pd.DataFrame(translateds), pd.DataFrame(sorts), pd.DataFrame(notes)], axis= 1)\n",
        "df_merged.columns = ['uid', 'source_id', 'source_year', 'group', 'century', 'author', 'title', 'genre', 'type', 'oblig_author', 'oblig_title', 'grade', 'section', 'number_authors', 'number_titles', 'profound', 'source_issue', 'title_cycle', 'translated', 'sort', 'notes']\n",
        "df_merged.to_excel('C:/Users/User/Documents/0_ВШЭ_проект/sorted2.xlsx', encoding='utf-8', index = False)\n",
        "#df_merged"
      ],
      "metadata": {
        "id": "w4LClymNkdpN"
      },
      "execution_count": null,
      "outputs": []
    },
    {
      "cell_type": "markdown",
      "source": [
        "2) Связки: author, title, century, genre, type, sort, translated, notes, title_cycle"
      ],
      "metadata": {
        "id": "Buz8K0irk_RJ"
      }
    },
    {
      "cell_type": "code",
      "source": [
        "import pandas as pd\n",
        "import numpy as np\n",
        "\n",
        "# Путь к файлу\n",
        "file_path = 'C:/Users/User/Documents/0_ВШЭ_проект/0_replacements.xlsx'\n",
        "\n",
        "# Чтение всех листов из Excel файла\n",
        "xlsx = pd.ExcelFile(file_path)\n",
        "sheets = xlsx.sheet_names\n",
        "\n",
        "# Обработка каждого листа\n",
        "processed_sheets = {}\n",
        "for sheet in sheets:\n",
        "    # Чтение листа в DataFrame\n",
        "    df = pd.read_excel(file_path, sheet_name=sheet)\n",
        "\n",
        "    # Удаление строк с пустыми значениями\n",
        "    df = df.dropna()\n",
        "\n",
        "    # Проверка наличия столбца 'uid' перед применением explode\n",
        "    if 'uid' in df.columns:\n",
        "        df['uid'] = df['uid'].str.split(', ')\n",
        "        df = df.explode('uid')\n",
        "\n",
        "    # Сохранение обработанного DataFrame в словарь\n",
        "    processed_sheets[sheet] = df\n",
        "\n",
        "\n",
        "# Запись обработанных данных обратно в новый Excel файл\n",
        "output_path = 'C:/Users/User/Documents/0_ВШЭ_проект/1_replacements.xlsx'\n",
        "with pd.ExcelWriter(output_path) as writer:\n",
        "    for sheet, df_processed in processed_sheets.items():\n",
        "        df_processed.to_excel(writer, sheet_name=sheet, index=False)\n",
        "\n",
        "#output_path = 'C:/Users/User/Documents/0_ВШЭ_проект/0_replacements.xlsx'\n",
        "#with pd.ExcelWriter(output_path) as writer:\n",
        " #   for sheet, df_processed in processed_sheets.items():\n",
        "        # Установка индекса\n",
        "   #     df_processed = df_processed.set_index()\n",
        "    #    df_processed.to_excel(writer, sheet_name=sheet)"
      ],
      "metadata": {
        "id": "lsPw--jzlNmL"
      },
      "execution_count": null,
      "outputs": []
    },
    {
      "cell_type": "code",
      "source": [
        "main = pd.read_excel('C:/Users/User/Documents/0_ВШЭ_проект/merged2.xlsx', index_col='uid')\n",
        "#main\n",
        "\n",
        "sheets_to_update = {\n",
        "    'author': 'author',\n",
        "    'title': 'title',\n",
        "    'type': 'type',\n",
        "    'genre': 'genre',\n",
        "    'century': 'century',\n",
        "    'sort': 'sort',\n",
        "    'translated': 'translated',\n",
        "    'notes': 'notes',\n",
        "    'title_cycle': 'title_cycle'\n",
        "}"
      ],
      "metadata": {
        "id": "m-Sa2EP5OWDw"
      },
      "execution_count": null,
      "outputs": []
    },
    {
      "cell_type": "code",
      "source": [
        "# Проходим по каждому листу и обновляем соответствующие столбцы\n",
        "for sheet_name, columns_to_update in sheets_to_update.items():\n",
        "    replace = pd.read_excel(output_path, sheet_name=sheet_name, index_col='uid')\n",
        "\n",
        "    # Проходим датасет replace с помощью цикла for и вытаскиваем из него индексы (uid)\n",
        "    for uid in replace.index:\n",
        "        if uid in main.index:\n",
        "            if pd.isna(main.loc[uid, columns_to_update]):\n",
        "                main.loc[uid, columns_to_update] = replace.loc[uid, columns_to_update]\n",
        "            else:\n",
        "                main.loc[uid, columns_to_update] = replace.loc[uid, columns_to_update]"
      ],
      "metadata": {
        "id": "a2-YiEVcOiN2"
      },
      "execution_count": null,
      "outputs": []
    },
    {
      "cell_type": "code",
      "source": [
        "main.reset_index(inplace=True)\n",
        "main.to_excel('C:/Users/User/Documents/0_ВШЭ_проект/replacement_result.xlsx', index = False)"
      ],
      "metadata": {
        "id": "eVwDkKgfOjsQ"
      },
      "execution_count": null,
      "outputs": []
    },
    {
      "cell_type": "markdown",
      "source": [
        "3) Замены для программ целиком (со старыми и новыми индексами, по определнным столбцам для старых)"
      ],
      "metadata": {
        "id": "lbPwS1a4OsV7"
      }
    },
    {
      "cell_type": "code",
      "source": [
        "import pandas as pd\n",
        "import numpy as np\n",
        "\n",
        "main = pd.read_excel('C:/Users/User/Documents/0_ВШЭ_проект/try.xlsx', sheet_name='main', index_col='uid')\n",
        "replace = pd.read_excel('C:/Users/User/Documents/0_ВШЭ_проект/try.xlsx', sheet_name='replace', index_col='uid')"
      ],
      "metadata": {
        "id": "YVSjPok9O0KJ"
      },
      "execution_count": null,
      "outputs": []
    },
    {
      "cell_type": "code",
      "source": [
        "#Столбцы, которые нужно обновить\n",
        "columns_to_update = ['source_id', 'source_year', 'group', 'oblig_author', 'oblig_title', 'grade', 'number_authors', 'number_titles', 'source_issue', 'title_cycle', 'notes']\n",
        "\n",
        "#Проходим датасет replace с помощью цикла for и вытаскиваем из него индексы (uid)\n",
        "for i in range(len(replace)):\n",
        "    uid = replace.index[i]\n",
        "\n",
        "    #Проверяем, есть ли эти индексы в датасете main\n",
        "    if uid in main.index:\n",
        "        #Проверяем наличие пустых значений в строке main по этому индексу\n",
        "        if main.loc[uid][columns_to_update].isnull().any():\n",
        "            #Заполняем пустые значения с помощью fillna только в нужных столбцах\n",
        "            main.loc[uid, columns_to_update] = main.loc[uid, columns_to_update].fillna(replace.loc[uid, columns_to_update])\n",
        "        else:\n",
        "            #Заменяем данные только в нужных столбцах\n",
        "            main.loc[uid, columns_to_update] = replace.loc[uid, columns_to_update]\n",
        "    else:\n",
        "        #Если индексы не совпали, склеиваем датасеты\n",
        "        main = pd.concat([main, replace.iloc[[i]]], axis=0)"
      ],
      "metadata": {
        "id": "b2W8oJ8JPAzS"
      },
      "execution_count": null,
      "outputs": []
    },
    {
      "cell_type": "code",
      "source": [
        "main.reset_index(inplace=True)\n",
        "main.to_excel('C:/Users/User/Documents/0_ВШЭ_проект/results.xlsx', index = False)"
      ],
      "metadata": {
        "id": "UR1GRAIgPNWU"
      },
      "execution_count": null,
      "outputs": []
    }
  ]
}
